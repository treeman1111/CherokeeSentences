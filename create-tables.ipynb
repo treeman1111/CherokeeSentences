{
 "cells": [
  {
   "cell_type": "code",
   "execution_count": 1,
   "metadata": {},
   "outputs": [],
   "source": [
    "import mysql.connector as sql\n",
    "\n",
    "cnx = sql.connect(host='localhost', user='root', password='ella es una bruja', db='cherokee')\n",
    "cur = cnx.cursor()\n",
    "\n",
    "cur.execute('DROP TABLE IF EXISTS work')\n",
    "cur.execute('''CREATE TABLE work(\n",
    "    work_id INT NOT NULL AUTO_INCREMENT,\n",
    "    name TINYTEXT NOT NULL,\n",
    "    PRIMARY KEY (work_id))'''\n",
    ")\n",
    "\n",
    "cur.execute('DROP TABLE IF EXISTS sentence')\n",
    "cur.execute('''CREATE TABLE sentence(\n",
    "    sentence_id INT NOT NULL AUTO_INCREMENT,\n",
    "    work_id INT NOT NULL,\n",
    "    chr TEXT NOT NULL,\n",
    "    eng TEXT NOT NULL,\n",
    "    PRIMARY KEY (sentence_id),\n",
    "    FOREIGN KEY (work_id) REFERENCES work(work_id))'''\n",
    ")\n",
    "\n",
    "cur.execute('DROP TABLE IF EXISTS word')\n",
    "cur.execute('''CREATE TABLE word(\n",
    "    word_id INT NOT NULL AUTO_INCREMENT,\n",
    "    word TINYTEXT NOT NULL,\n",
    "    count INT NOT NULL,\n",
    "    PRIMARY KEY (word_id))'''\n",
    ")\n",
    "\n",
    "cur.execute('DROP TABLE IF EXISTS fillin')\n",
    "cur.execute('''CREATE TABLE fillin(\n",
    "    fillin_id INT NOT NULL AUTO_INCREMENT,\n",
    "    sentence_id INT NOT NULL,\n",
    "    word_id INT NOT NULL,\n",
    "    pos INT NOT NULL,\n",
    "    lvl TINYINT NOT NULL,\n",
    "    PRIMARY KEY (fillin_id),\n",
    "    FOREIGN KEY (sentence_id) REFERENCES sentence(sentence_id),\n",
    "    FOREIGN KEY (word_id) REFERENCES word(word_id))'''\n",
    ")\n",
    "\n",
    "cnx.commit()\n",
    "cur.close()\n",
    "cnx.close()"
   ]
  }
 ],
 "metadata": {
  "kernelspec": {
   "display_name": "Python 3",
   "language": "python",
   "name": "python3"
  },
  "language_info": {
   "codemirror_mode": {
    "name": "ipython",
    "version": 3
   },
   "file_extension": ".py",
   "mimetype": "text/x-python",
   "name": "python",
   "nbconvert_exporter": "python",
   "pygments_lexer": "ipython3",
   "version": "3.7.2"
  }
 },
 "nbformat": 4,
 "nbformat_minor": 2
}
