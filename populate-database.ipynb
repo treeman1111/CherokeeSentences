{
 "cells": [
  {
   "cell_type": "markdown",
   "metadata": {},
   "source": [
    "Setup the necessary objects for interacting with the database. It is assumed that create-tables was run before this file."
   ]
  },
  {
   "cell_type": "code",
   "execution_count": 1,
   "metadata": {},
   "outputs": [],
   "source": [
    "import mysql.connector as sql\n",
    "\n",
    "con = sql.connect(host='localhost',user='root',password='ella es una bruja',db='cherokee')\n",
    "cur = con.cursor()"
   ]
  },
  {
   "cell_type": "markdown",
   "metadata": {},
   "source": [
    "Generate a list of the different .csv files that are in the *alignments* directory, as well as the names of the files without .csv, which will be given to the 'work' objects in the DB:"
   ]
  },
  {
   "cell_type": "code",
   "execution_count": 2,
   "metadata": {},
   "outputs": [],
   "source": [
    "from os import listdir\n",
    "alignments = listdir('../alignments/')\n",
    "names = [a.replace('.csv','') for a in alignments]\n",
    "\n",
    "# check for duplicate names:\n",
    "if len(set(names)) != len(names):\n",
    "    raise Exception('two alignments have the same name')"
   ]
  },
  {
   "cell_type": "markdown",
   "metadata": {},
   "source": [
    "Create the 'work' objects in the database:"
   ]
  },
  {
   "cell_type": "code",
   "execution_count": 3,
   "metadata": {},
   "outputs": [],
   "source": [
    "import pandas as pd\n",
    "\n",
    "work_lookup = dict()\n",
    "counter = 1\n",
    "\n",
    "for name in names:\n",
    "    path = f\"../alignments/{name}.csv\"\n",
    "    work = pd.read_csv(path)\n",
    "    cur.execute('INSERT INTO work (name) VALUES (%s)', (name,))\n",
    "    \n",
    "    for row in work.itertuples():\n",
    "        cherokee = getattr(row,'chr').lstrip().rstrip()\n",
    "        english = getattr(row,'en').lstrip().rstrip()\n",
    "        cur.execute('INSERT INTO sentence (work_id, chr, eng) VALUES (%s,%s,%s)', (counter,cherokee,english))\n",
    "    \n",
    "    work_lookup[name] = (counter,work)\n",
    "    counter += 1"
   ]
  },
  {
   "cell_type": "markdown",
   "metadata": {},
   "source": [
    "Make a dictionary of all the cherokee words that appear in the works, mapped to their frequency:"
   ]
  },
  {
   "cell_type": "code",
   "execution_count": 4,
   "metadata": {},
   "outputs": [],
   "source": [
    "import re\n",
    "from collections import Counter\n",
    "\n",
    "words = list()\n",
    "\n",
    "for work in work_lookup.values():\n",
    "    for i in work[1]['chr']:\n",
    "        i = i.rstrip().lstrip()\n",
    "        s = re.split('\\W+', i) # split the sentence into words\n",
    "        \n",
    "        for x in s: # iterate over each word in the sentence\n",
    "            if x == '':\n",
    "                continue\n",
    "        \n",
    "            good = True # does the word contain only syllabary characters?\n",
    "            for c in x:\n",
    "                if c < 'Ꭰ' or c > 'ᏽ':\n",
    "                    good = False\n",
    "            \n",
    "            if not good:\n",
    "                continue\n",
    "            else:\n",
    "                words.append(x)\n",
    "\n",
    "# count the number of times each word appears\n",
    "word_counts = dict(Counter(words))\n",
    "max_count = max(word_counts.values())"
   ]
  },
  {
   "cell_type": "markdown",
   "metadata": {},
   "source": [
    "Populate the word table with the words extracted from the above dictionary:"
   ]
  },
  {
   "cell_type": "code",
   "execution_count": 5,
   "metadata": {},
   "outputs": [],
   "source": [
    "wid = 1 # starts at one because the DB auto increment starts there too\n",
    "word_id_map = dict() # a map from word to word_id for convenient insertion later.\n",
    "\n",
    "for word in sorted(word_counts, key=lambda w: word_counts[w], reverse=True):\n",
    "    cur.execute('INSERT INTO word(word,count) VALUES(%s,%s)', (word,word_counts[word]))\n",
    "    word_id_map[word] = wid;\n",
    "    wid += 1"
   ]
  },
  {
   "cell_type": "code",
   "execution_count": 6,
   "metadata": {},
   "outputs": [],
   "source": [
    "con.commit()"
   ]
  },
  {
   "cell_type": "markdown",
   "metadata": {},
   "source": [
    "Create fill-in-the-blank questions:"
   ]
  },
  {
   "cell_type": "code",
   "execution_count": 7,
   "metadata": {},
   "outputs": [],
   "source": [
    "import math\n",
    "\n",
    "sid = 0\n",
    "calculated_levels = [] # used to track the frequency of different levels\n",
    "\n",
    "for work in work_lookup.values():\n",
    "    for row in work[1].itertuples():\n",
    "        sid += 1\n",
    "            \n",
    "        sentence = getattr(row, 'chr').lstrip().rstrip()\n",
    "        ws = [x for x in re.split('\\W+', sentence) if x != '']\n",
    "        \n",
    "        # discard the sentence if there are any english words\n",
    "        all_valid_words = ({w in word_id_map for w in ws}=={True})\n",
    "        if not all_valid_words:\n",
    "            continue\n",
    "\n",
    "        num_spaces = 0\n",
    "        for word in ws:\n",
    "            wid = word_id_map[word]\n",
    "\n",
    "            if num_spaces == 0:\n",
    "                search_start = 0\n",
    "            else:\n",
    "                search_start = sentence.find(' ', search_start)\n",
    "\n",
    "            word_location = sentence.find(word, search_start)\n",
    "\n",
    "            if (word_location == -1): # goose talk crap -- don't make a question out of it.\n",
    "                continue\n",
    "\n",
    "            # the level will be defined as the square of the sentence length over the frequency of the missing word\n",
    "            lvl=math.log((1/word_counts[word])*len(ws)*len(ws))\n",
    "            calculated_levels.append(lvl)\n",
    "            \n",
    "            if lvl < -2:\n",
    "                lvl=0\n",
    "            elif lvl >= -2 and lvl < 3:\n",
    "                lvl=1\n",
    "            else:\n",
    "                lvl=2\n",
    "            \n",
    "            cur.execute('INSERT INTO fillin(sentence_id, word_id, pos, lvl) VALUES (%s, %s, %s, %s)',\n",
    "                        (sid, wid, word_location, lvl)\n",
    "                        )\n",
    "            num_spaces += 1"
   ]
  },
  {
   "cell_type": "code",
   "execution_count": 8,
   "metadata": {},
   "outputs": [
    {
     "data": {
      "image/png": "[encoded data removed]",
      "text/plain": [
       "<Figure size 432x288 with 1 Axes>"
      ]
     },
     "metadata": {
      "needs_background": "light"
     },
     "output_type": "display_data"
    }
   ],
   "source": [
    "import matplotlib.pyplot as pt\n",
    "pt.hist(x=calculated_levels,bins=20)\n",
    "pt.show()"
   ]
  },
  {
   "cell_type": "markdown",
   "metadata": {},
   "source": [
    "Create multiple-choice questions:"
   ]
  },
  {
   "cell_type": "code",
   "execution_count": 68,
   "metadata": {},
   "outputs": [],
   "source": [
    "import random as rnd\n",
    "\n",
    "unique_words = set(words)\n",
    "cache = dict()\n",
    "\n",
    "def find_other_choices(w):\n",
    "    if w[0] not in cache:\n",
    "        options = {word for word in unique_words if word[0] == w[0]}\n",
    "        cache[w[0]] = options\n",
    "\n",
    "    options = cache[w[0]] - {w}\n",
    "    \n",
    "    if (len(options) < 3):\n",
    "        options = options.union(rnd.sample(unique_words - {w},10))\n",
    "    \n",
    "    return rnd.sample(options,3)\n",
    "\n",
    "\n",
    "sid = 0\n",
    "\n",
    "for work in work_lookup.values():\n",
    "    for row in work[1].itertuples():\n",
    "        sid += 1\n",
    "        \n",
    "        sentence = getattr(row, 'chr').lstrip().rstrip()\n",
    "        ws = [x for x in re.split('\\W+', sentence) if x != '']\n",
    "        num_spaces = 0\n",
    "        \n",
    "        # discard the sentence if there are any english words\n",
    "        all_valid_words = ({w in word_id_map for w in ws}=={True})\n",
    "        if not all_valid_words:\n",
    "            continue\n",
    "        \n",
    "        for word in ws:\n",
    "            wid = word_id_map[word]\n",
    "\n",
    "            if num_spaces == 0:\n",
    "                search_start = 0\n",
    "            else:\n",
    "                search_start = sentence.find(' ', search_start)\n",
    "\n",
    "            word_location = sentence.find(word, search_start)\n",
    "\n",
    "            if (word_location == -1): # goose talk crap -- don't make a question out of it.\n",
    "                continue\n",
    "\n",
    "            others = find_other_choices(word)\n",
    "            wrong1 = word_id_map[others[0]]\n",
    "            wrong2 = word_id_map[others[1]]\n",
    "            wrong3 = word_id_map[others[2]]\n",
    "\n",
    "            lvl=math.log((1/word_counts[word])*len(ws)*len(ws))\n",
    "            if lvl < -0.25:\n",
    "                lvl=0\n",
    "            elif lvl >= -0.25 and lvl < 3:\n",
    "                lvl=1\n",
    "            else:\n",
    "                lvl=2\n",
    "\n",
    "            #cur.execute('''INSERT INTO multiple(sentence_id,correct,wrong1,wrong2,wrong3,pos,lvl) \n",
    "             #               VALUES (%s,%s,%s,%s,%s,%s,%s)''', (sid,wid,wrong1,wrong2,wrong3,word_location,lvl)\n",
    "              #            )\n",
    "            num_spaces += 1\n",
    "\n",
    "del cache\n",
    "del unique_words"
   ]
  },
  {
   "cell_type": "markdown",
   "metadata": {},
   "source": [
    "Write all information to the database, then close the connection:"
   ]
  },
  {
   "cell_type": "code",
   "execution_count": 8,
   "metadata": {},
   "outputs": [],
   "source": [
    "con.commit()\n",
    "cur.close()\n",
    "con.close()"
   ]
  }
 ],
 "metadata": {
  "kernelspec": {
   "display_name": "Python 3",
   "language": "python",
   "name": "python3"
  },
  "language_info": {
   "codemirror_mode": {
    "name": "ipython",
    "version": 3
   },
   "file_extension": ".py",
   "mimetype": "text/x-python",
   "name": "python",
   "nbconvert_exporter": "python",
   "pygments_lexer": "ipython3",
   "version": "3.7.2"
  }
 },
 "nbformat": 4,
 "nbformat_minor": 2
}
